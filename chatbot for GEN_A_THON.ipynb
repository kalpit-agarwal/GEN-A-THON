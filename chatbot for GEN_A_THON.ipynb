{
  "nbformat": 4,
  "nbformat_minor": 0,
  "metadata": {
    "colab": {
      "provenance": []
    },
    "kernelspec": {
      "name": "python3",
      "display_name": "Python 3"
    },
    "language_info": {
      "name": "python"
    }
  },
  "cells": [
    {
      "cell_type": "code",
      "execution_count": 9,
      "metadata": {
        "colab": {
          "base_uri": "https://localhost:8080/"
        },
        "id": "vnu5cdJUMDQx",
        "outputId": "6a8b09af-0af8-4488-91f1-0db224f304a9"
      },
      "outputs": [
        {
          "output_type": "stream",
          "name": "stdout",
          "text": [
            "Hey!\n",
            "What is your name?a\n",
            "How old are you?12\n",
            "What do you do for a living?iit\n",
            "What is your educational goal?iit\n",
            "What is your biggest academic challenge?iit\n",
            "What is your biggest non-academic challenge?iit\n",
            "Hello, a! You are 12 years old and work as a/an iit.\n",
            "Your educational goal is iit.\n",
            "Your biggest academic challenge is iit.\n",
            "Here is a solution: Ask for help\n",
            "Did the solution help? (Yes/No): no\n",
            "I'm here to help. Feel free to ask for more advice.\n",
            "Your biggest non-academic challenge is iit.\n",
            "Here is a solution: Practice time management\n",
            "Did the solution help? (Yes/No): no\n",
            "I'm here to help. Feel free to ask for more advice.\n"
          ]
        }
      ],
      "source": [
        "import random\n",
        "\n",
        "def greet():\n",
        "    greetings = ['Hello!', 'Hi there!', 'Hey!', 'Greetings!']\n",
        "    return random.choice(greetings)\n",
        "\n",
        "def ask_name():\n",
        "    return 'What is your name?'\n",
        "\n",
        "def ask_age():\n",
        "    return 'How old are you?'\n",
        "\n",
        "def ask_occupation():\n",
        "    return 'What do you do for a living?'\n",
        "\n",
        "def ask_educational_goal():\n",
        "    return 'What is your educational goal?'\n",
        "\n",
        "def ask_academic_challenge():\n",
        "    return 'What is your biggest academic challenge?'\n",
        "\n",
        "def ask_non_academic_challenge():\n",
        "    return 'What is your biggest non-academic challenge?'\n",
        "\n",
        "def provide_solution(challenge):\n",
        "    solutions = {\n",
        "        'academic': ['Study harder', 'Ask for help', 'Join a study group'],\n",
        "        'non-academic': ['Take a break', 'Seek support from friends or family', 'Practice time management']\n",
        "    }\n",
        "    return random.choice(solutions[challenge])\n",
        "\n",
        "def chat():\n",
        "    print(greet())\n",
        "    name = input(ask_name())\n",
        "    age = input(ask_age())\n",
        "    occupation = input(ask_occupation())\n",
        "    educational_goal = input(ask_educational_goal())\n",
        "    academic_challenge = input(ask_academic_challenge())\n",
        "    non_academic_challenge = input(ask_non_academic_challenge())\n",
        "\n",
        "    print(f'Hello, {name}! You are {age} years old and work as a/an {occupation}.')\n",
        "    print(f'Your educational goal is {educational_goal}.')\n",
        "\n",
        "    if academic_challenge:\n",
        "        print(f'Your biggest academic challenge is {academic_challenge}.')\n",
        "        solution = provide_solution(\"academic\")\n",
        "        print(f'Here is a solution: {solution}')\n",
        "        user_response = input('Did the solution help? (Yes/No): ')\n",
        "        if user_response.lower() == 'no':\n",
        "            print(\"I'm here to help. Feel free to ask for more advice.\")\n",
        "\n",
        "    if non_academic_challenge:\n",
        "        print(f'Your biggest non-academic challenge is {non_academic_challenge}.')\n",
        "        solution = provide_solution(\"non-academic\")\n",
        "        print(f'Here is a solution: {solution}')\n",
        "        user_response = input('Did the solution help? (Yes/No): ')\n",
        "        if user_response.lower() == 'no':\n",
        "            print(\"I'm here to help. Feel free to ask for more advice.\")\n",
        "\n",
        "# Start the chatbot\n",
        "chat()"
      ]
    }
  ]
}